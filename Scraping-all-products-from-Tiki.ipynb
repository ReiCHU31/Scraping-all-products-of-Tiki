{
 "cells": [
  {
   "cell_type": "markdown",
   "metadata": {
    "colab_type": "text",
    "id": "5kTkf-CMrI2o"
   },
   "source": [
    "# Week 2 - Connect Tiki Scraper to PostgreSQL database"
   ]
  },
  {
   "cell_type": "markdown",
   "metadata": {
    "colab_type": "text",
    "id": "vZ18EpxFrfvp"
   },
   "source": [
    "## Update the Scraper"
   ]
  },
  {
   "cell_type": "code",
   "execution_count": 1,
   "metadata": {
    "colab": {
     "base_uri": "https://localhost:8080/",
     "height": 71
    },
    "colab_type": "code",
    "id": "ZjHQJkAtrOxj",
    "outputId": "ae0111cc-f749-40f2-c296-feeb200f8bf3"
   },
   "outputs": [],
   "source": [
    "# Import libraries\n",
    "import pandas as pd\n",
    "import requests\n",
    "import re\n",
    "import psycopg2\n",
    "from bs4 import BeautifulSoup"
   ]
  },
  {
   "cell_type": "code",
   "execution_count": 2,
   "metadata": {
    "colab": {},
    "colab_type": "code",
    "id": "zD1RevEYrYGv"
   },
   "outputs": [],
   "source": [
    "# Parser function to retrieve and parse the HTML code of a website \n",
    "def parser(url):\n",
    "    \n",
    "    # Plain HTML code\n",
    "    plain = requests.get(url).text\n",
    "    \n",
    "    # Parser\n",
    "    s = BeautifulSoup(plain, \"html.parser\")\n",
    "    \n",
    "    return s"
   ]
  },
  {
   "cell_type": "code",
   "execution_count": 3,
   "metadata": {
    "colab": {},
    "colab_type": "code",
    "id": "9EYUm7vkrcjd"
   },
   "outputs": [],
   "source": [
    "# Function to get all URLs of categories on Tiki\n",
    "def get_urls():\n",
    "    \n",
    "    url = 'https://tiki.vn/'\n",
    "          \n",
    "    # Run Parser on Tiki\n",
    "    s = parser(url)\n",
    "    \n",
    "    # Initialize an empty list of category \n",
    "    category_list = []\n",
    "\n",
    "    # Scrape through the navigator bar on Tiki homepage\n",
    "    for i in s.findAll('a',{'class':'MenuItem__MenuLink-tii3xq-1 efuIbv'}):\n",
    "        \n",
    "        # Get the category value\n",
    "        category = i.find('span',{'class':'text'}).text \n",
    "        \n",
    "        # Get the url value\n",
    "        url = i['href'] + \"&page=1\"\n",
    "        \n",
    "        # Add category and url values to list\n",
    "        category_list.append((category, url))\n",
    "        \n",
    "    return category_list"
   ]
  },
  {
   "cell_type": "markdown",
   "metadata": {
    "colab_type": "text",
    "id": "KYh4KHbXrkEe"
   },
   "source": [
    "## Connect to PostgreSQL Database"
   ]
  },
  {
   "cell_type": "code",
   "execution_count": 4,
   "metadata": {
    "colab": {},
    "colab_type": "code",
    "id": "BdywEgN3rnnD"
   },
   "outputs": [],
   "source": [
    "# Function to create connection to our PostgreSQL database\n",
    "def get_connection():\n",
    "    connection = psycopg2.connect(user = \"reichu2\",\n",
    "                                  password = 'phuongchu',\n",
    "                                  host = \"127.0.0.1\",\n",
    "                                  port = \"5432\",\n",
    "                                  database = \"tiki\")\n",
    "    return connection"
   ]
  },
  {
   "cell_type": "markdown",
   "metadata": {
    "colab_type": "text",
    "id": "xEUTuQ6Jrv2L"
   },
   "source": [
    "## Create new table in PostgreSQL Database¶"
   ]
  },
  {
   "cell_type": "code",
   "execution_count": 5,
   "metadata": {
    "colab": {},
    "colab_type": "code",
    "id": "mhqaatlerq8u"
   },
   "outputs": [],
   "source": [
    "# Function to create an empty `products` table in our database if it doesn't exist yet\n",
    "def create_products_table():\n",
    "    \n",
    "    print('INFO create_products_table(): Create table products')\n",
    "    \n",
    "    try:\n",
    "        # Create connection & cursor\n",
    "        connection = get_connection()\n",
    "        cursor = connection.cursor() \n",
    "        \n",
    "        # Execute the query #chú ý đoạn ID\n",
    "        cursor.execute(\"\"\"\n",
    "        CREATE TABLE IF NOT EXISTS products(\n",
    "            product_id INTEGER, \n",
    "            product_seller_id VARCHAR(20),\n",
    "            title TEXT,\n",
    "            price INTEGER,\n",
    "            brand TEXT,\n",
    "            img_url TEXT,\n",
    "            rating TEXT,\n",
    "            comments INTEGER,\n",
    "            category TEXT,\n",
    "            tikinow BOOLEAN\n",
    "        );\"\"\")\n",
    "        \n",
    "        # Commit the changes made to our database\n",
    "        connection.commit()\n",
    "\n",
    "    except (Exception, psycopg2.Error) as error :\n",
    "        print (\"ERROR create_products_table(): Error while connecting to PostgreSQL\", error)\n",
    "        \n",
    "        # In case of error, cancel all changes made to our database during the connection\n",
    "        connection.rollback()\n",
    "        return\n",
    "    \n",
    "    finally:\n",
    "    \n",
    "        # Close the connection & cursor\n",
    "        cursor.close()\n",
    "        connection.close()"
   ]
  },
  {
   "cell_type": "code",
   "execution_count": 6,
   "metadata": {},
   "outputs": [
    {
     "name": "stdout",
     "output_type": "stream",
     "text": [
      "INFO create_products_table(): Create table products\n"
     ]
    }
   ],
   "source": [
    "create_products_table()"
   ]
  },
  {
   "cell_type": "markdown",
   "metadata": {
    "colab_type": "text",
    "id": "9YDyds88r5qt"
   },
   "source": [
    "## Insert data to PostSQL Database"
   ]
  },
  {
   "cell_type": "code",
   "execution_count": 7,
   "metadata": {
    "colab": {},
    "colab_type": "code",
    "id": "MDuidUMKr2bH"
   },
   "outputs": [],
   "source": [
    "# Function to insert new data to our table\n",
    "def insert_data_to_db(data, table_name):\n",
    "    \n",
    "    print('INFO insert_data_to_db(): Insert data to DB')\n",
    "    \n",
    "    try:\n",
    "        # Create connection & cursor \n",
    "        connection = get_connection()\n",
    "        cursor = connection.cursor()\n",
    "        \n",
    "        # For each row (product) in data (product page),...\n",
    "        for row in data:\n",
    "            # Create the query to insert product information to 'table_name'\n",
    "            query = \"INSERT INTO products VALUES (%s, %s, %s, %s ,%s, %s, %s, %s, %s, %s)\"\n",
    "            \n",
    "            # Execute the query\n",
    "            cursor.execute(query, row)\n",
    "            \n",
    "            # Commit the changes made to our database\n",
    "            connection.commit()\n",
    "\n",
    "    except (Exception, psycopg2.Error) as error :\n",
    "        print (\"ERROR save_data_to_db(): Error while connecting to PostgreSQL\", error)\n",
    "        \n",
    "        # In case of error, cancel all changes made to our database during the connection\n",
    "        connection.rollback()\n",
    "        \n",
    "    finally:\n",
    "        \n",
    "        # Close the connection & cursor\n",
    "        cursor.close()\n",
    "        connection.close()"
   ]
  },
  {
   "cell_type": "code",
   "execution_count": 8,
   "metadata": {
    "colab": {},
    "colab_type": "code",
    "id": "LbN8nRT0r_MR"
   },
   "outputs": [],
   "source": [
    "# Function to get all data from table 'products'\n",
    "def select_data_from_db():\n",
    "    \n",
    "    try:\n",
    "        # Create connection & cursor \n",
    "        connection = get_connection()\n",
    "        cursor = connection.cursor()\n",
    "        \n",
    "        # Get all data from table 'products'\n",
    "        cursor.execute(\"SELECT * FROM products\")      \n",
    "        \n",
    "        # Fetch (Collect) the data and save them in 'data'\n",
    "        data = cursor.fetchall()\n",
    "        \n",
    "        return data\n",
    "\n",
    "    except (Exception, psycopg2.Error) as error :\n",
    "        print (\"ERROR save_data_to_db(): Error while connecting to PostgreSQL\", error)\n",
    "        \n",
    "        # In case of error, cancel all changes made to our database during the connection\n",
    "        connection.rollback()\n",
    "        \n",
    "    finally:\n",
    "        \n",
    "        # Close the connection & cursor\n",
    "        cursor.close()\n",
    "        connection.close()"
   ]
  },
  {
   "cell_type": "code",
   "execution_count": 9,
   "metadata": {},
   "outputs": [],
   "source": [
    "# Web scrape function\n",
    "def scrape(cat, url):\n",
    "    \n",
    "    # Initialize empty 'results' list\n",
    "    results = []\n",
    "   \n",
    "    # Run Parser on the product page\n",
    "    s = parser(url)\n",
    "    \n",
    "    # Find all tags <div class='product-item'> and store them in 'prodct_items' list, each tag represent a product\n",
    "    product_items = s.findAll('div',{'class':'product-item'})\n",
    "\n",
    "    # If the tag list is empty (i.e. the page doesn't have any product), return an empty list.\n",
    "    if len(product_items) == 0:\n",
    "        return []\n",
    "\n",
    "    # If the tag list is not empty (i.e. the page has products),...\n",
    "    else: \n",
    "        \n",
    "        # Iterate through all product and store the product information in the 'row' list\n",
    "        for i in range(len(product_items)):\n",
    "            \n",
    "            # find tikinow\n",
    "            tikinow = product_items[i].find_all('i',{'class':'tikicon'})\n",
    "            \n",
    "            # find rating of each product\n",
    "            rating = product_items[i].select(\"span.rating-content span[style]\")\n",
    "            if rating != []:\n",
    "                rating = rating[0][\"style\"][len(\"width:\"):]\n",
    "            else:\n",
    "                rating = ''\n",
    "            \n",
    "            \n",
    "            # find total number of comments about each product\n",
    "            find_comments = product_items[i].find('p', {'class':'review'})\n",
    "\n",
    "            # if there is no review => skip, if there is parse the number\n",
    "            is_there_comments = product_items[i].select(\"[class=review]\")\n",
    "\n",
    "            # get content between review tag\n",
    "            if is_there_comments != []:\n",
    "                for comment in find_comments:\n",
    "                    for x in re.findall('\\d+', comment):\n",
    "                        int(x)\n",
    "                    total_num_of_comments = x\n",
    "            else:\n",
    "                total_num_of_comments = 0\n",
    "            \n",
    "            \n",
    "            # get the link of each product\n",
    "#             link_product = product_items[i].find('a',{'class':''})['href']\n",
    "#             s_product = parser(link_product)\n",
    "            \n",
    "#             user = s_product.select_one(\"#review-lazy .review-list > .item .product-col-1 p.name\"\n",
    "            \n",
    "            \n",
    "            row = [product_items[i]['data-id'], \n",
    "                   product_items[i]['data-seller-product-id'], \n",
    "                   product_items[i]['data-title'],\n",
    "                   product_items[i]['data-price'], \n",
    "                   product_items[i]['data-brand'],\n",
    "                   product_items[i].find('img',{'class':'product-image img-responsive'})['src'],\n",
    "                   rating,\n",
    "                   total_num_of_comments,\n",
    "                   cat,\n",
    "                   '1' if tikinow else '0']   \n",
    "\n",
    "            # Add the product information of each product into 'results' list\n",
    "            results.append(row)\n",
    "            \n",
    "    # Return the list `results`   \n",
    "    return results"
   ]
  },
  {
   "cell_type": "code",
   "execution_count": 10,
   "metadata": {
    "colab": {},
    "colab_type": "code",
    "id": "TJmjIM66sGPc"
   },
   "outputs": [],
   "source": [
    "# Run scrape fuction on every page\n",
    "\n",
    "def scrape_all():\n",
    "    print('INFO scrape_all(): Start scraping')\n",
    "\n",
    "    # Initialize 'queue' list with the results of get_urls()\n",
    "    queue = get_urls()\n",
    "\n",
    "    # Create table `products` if it doesn't exist yet\n",
    "    # \n",
    "    # results = []  <-- This is what we did in the first week\n",
    "    create_products_table()\n",
    "\n",
    "    # While there are items in `queue`,...\n",
    "    while len(queue) != 0:\n",
    "\n",
    "        # `url` is set to the url of last item in `queue`\n",
    "        url = queue[-1][-1]\n",
    "\n",
    "        # `cat` is set to the category of last item in `queue`\n",
    "        cat = queue[-1][0]\n",
    "\n",
    "        # Remove the last item in queue\n",
    "        queue = queue[:-1]\n",
    "\n",
    "        print('Scraping', cat)\n",
    "\n",
    "        # Run scrape(cat, url) with given `cat` and `url`\n",
    "        new_rows = scrape(cat, url)\n",
    "\n",
    "        # If the result of scrape(cat, url) is not an empty list (i.e. the page has products),...  \n",
    "        if len(new_rows) != 0:\n",
    "\n",
    "            # Insert the result of scrape(cat, url) to table `product`\n",
    "            # results += new_rows  <-- This is what we did in the first week\n",
    "            insert_data_to_db(new_rows, \"products\")\n",
    "\n",
    "            # Generate next page url \n",
    "            page = int(url[url.rfind(\"=\")+1:])+1\n",
    "            url = url[:url.rfind(\"=\")+1] + str(page)\n",
    "\n",
    "        # Use this to limit our scraper to scrape only the first 10 pages of each category\n",
    "        # We do this to test our scraper with a smaller task first before running through every product page\n",
    "        \n",
    "        #if page < 1:\n",
    "\n",
    "            # Add the new page url to the end of list `queue`\n",
    "            queue.append((cat,url))\n",
    "\n",
    "        print('Add next page', page)\n",
    "    \n",
    "    # Return the list `results`\n",
    "    return "
   ]
  },
  {
   "cell_type": "markdown",
   "metadata": {
    "colab_type": "text",
    "id": "gQu0W-jBsVvx"
   },
   "source": [
    "## Getting all data in table products and put them in a pandas dataframe"
   ]
  },
  {
   "cell_type": "code",
   "execution_count": null,
   "metadata": {},
   "outputs": [],
   "source": [
    "scrape_all()"
   ]
  },
  {
   "cell_type": "code",
   "execution_count": 116,
   "metadata": {
    "colab": {
     "base_uri": "https://localhost:8080/",
     "height": 612
    },
    "colab_type": "code",
    "id": "m3C6DKWdsJpY",
    "outputId": "ecb82b07-d808-4379-8c30-eab3bdff1739",
    "scrolled": true
   },
   "outputs": [
    {
     "data": {
      "text/html": [
       "<div>\n",
       "<style scoped>\n",
       "    .dataframe tbody tr th:only-of-type {\n",
       "        vertical-align: middle;\n",
       "    }\n",
       "\n",
       "    .dataframe tbody tr th {\n",
       "        vertical-align: top;\n",
       "    }\n",
       "\n",
       "    .dataframe thead th {\n",
       "        text-align: right;\n",
       "    }\n",
       "</style>\n",
       "<table border=\"1\" class=\"dataframe\">\n",
       "  <thead>\n",
       "    <tr style=\"text-align: right;\">\n",
       "      <th></th>\n",
       "      <th>product_id</th>\n",
       "      <th>seller_id</th>\n",
       "      <th>title</th>\n",
       "      <th>price</th>\n",
       "      <th>brand</th>\n",
       "      <th>image_url</th>\n",
       "      <th>rating</th>\n",
       "      <th>comments</th>\n",
       "      <th>category</th>\n",
       "      <th>tikinow</th>\n",
       "    </tr>\n",
       "  </thead>\n",
       "  <tbody>\n",
       "    <tr>\n",
       "      <th>19001</th>\n",
       "      <td>21062694</td>\n",
       "      <td>21062695</td>\n",
       "      <td>Giá Đỡ Điện Thoại Nam Châm Trên Xe Ô Tô Đen</td>\n",
       "      <td>172000</td>\n",
       "      <td>OEM</td>\n",
       "      <td>https://salt.tikicdn.com/cache/200x200/ts/prod...</td>\n",
       "      <td></td>\n",
       "      <td>0</td>\n",
       "      <td>Hàng quốc tế</td>\n",
       "      <td>False</td>\n",
       "    </tr>\n",
       "    <tr>\n",
       "      <th>1170</th>\n",
       "      <td>2385721</td>\n",
       "      <td>3240191</td>\n",
       "      <td>Dịch Vụ Thay Loa Ngoài iPhone 6s</td>\n",
       "      <td>360000</td>\n",
       "      <td></td>\n",
       "      <td>https://salt.tikicdn.com/cache/200x200/ts/prod...</td>\n",
       "      <td></td>\n",
       "      <td>0</td>\n",
       "      <td>Voucher - Dịch Vụ - Thẻ Cào</td>\n",
       "      <td>False</td>\n",
       "    </tr>\n",
       "    <tr>\n",
       "      <th>22043</th>\n",
       "      <td>22503707</td>\n",
       "      <td>22503708</td>\n",
       "      <td>iPega PG-9129 Wireless Gamepad Multimedia Game...</td>\n",
       "      <td>562000</td>\n",
       "      <td>Ipega</td>\n",
       "      <td>https://salt.tikicdn.com/cache/200x200/ts/prod...</td>\n",
       "      <td></td>\n",
       "      <td>0</td>\n",
       "      <td>Hàng quốc tế</td>\n",
       "      <td>False</td>\n",
       "    </tr>\n",
       "    <tr>\n",
       "      <th>46472</th>\n",
       "      <td>7337643</td>\n",
       "      <td>7337645</td>\n",
       "      <td>Balo Da Nữ  AZDBN180TI (không móc khóa)</td>\n",
       "      <td>199000</td>\n",
       "      <td>OEM</td>\n",
       "      <td>https://salt.tikicdn.com/cache/200x296/ts/prod...</td>\n",
       "      <td></td>\n",
       "      <td>0</td>\n",
       "      <td>Thời trang - Phụ kiện</td>\n",
       "      <td>False</td>\n",
       "    </tr>\n",
       "    <tr>\n",
       "      <th>11899</th>\n",
       "      <td>1036538</td>\n",
       "      <td>1037172</td>\n",
       "      <td>Cuốn Sách Lớn Đầu Tiên Của Tớ: Chim</td>\n",
       "      <td>84000</td>\n",
       "      <td>Catherine D. Hughes</td>\n",
       "      <td>https://salt.tikicdn.com/cache/200x200/media/c...</td>\n",
       "      <td></td>\n",
       "      <td>0</td>\n",
       "      <td>Sách, VPP &amp; Quà Tặng</td>\n",
       "      <td>True</td>\n",
       "    </tr>\n",
       "  </tbody>\n",
       "</table>\n",
       "</div>"
      ],
      "text/plain": [
       "       product_id seller_id  \\\n",
       "19001    21062694  21062695   \n",
       "1170      2385721   3240191   \n",
       "22043    22503707  22503708   \n",
       "46472     7337643   7337645   \n",
       "11899     1036538   1037172   \n",
       "\n",
       "                                                   title   price  \\\n",
       "19001       Giá Đỡ Điện Thoại Nam Châm Trên Xe Ô Tô Đen   172000   \n",
       "1170                    Dịch Vụ Thay Loa Ngoài iPhone 6s  360000   \n",
       "22043  iPega PG-9129 Wireless Gamepad Multimedia Game...  562000   \n",
       "46472            Balo Da Nữ  AZDBN180TI (không móc khóa)  199000   \n",
       "11899                Cuốn Sách Lớn Đầu Tiên Của Tớ: Chim   84000   \n",
       "\n",
       "                     brand                                          image_url  \\\n",
       "19001                  OEM  https://salt.tikicdn.com/cache/200x200/ts/prod...   \n",
       "1170                        https://salt.tikicdn.com/cache/200x200/ts/prod...   \n",
       "22043                Ipega  https://salt.tikicdn.com/cache/200x200/ts/prod...   \n",
       "46472                  OEM  https://salt.tikicdn.com/cache/200x296/ts/prod...   \n",
       "11899  Catherine D. Hughes  https://salt.tikicdn.com/cache/200x200/media/c...   \n",
       "\n",
       "      rating  comments                     category  tikinow  \n",
       "19001                0                 Hàng quốc tế    False  \n",
       "1170                 0  Voucher - Dịch Vụ - Thẻ Cào    False  \n",
       "22043                0                 Hàng quốc tế    False  \n",
       "46472                0        Thời trang - Phụ kiện    False  \n",
       "11899                0         Sách, VPP & Quà Tặng     True  "
      ]
     },
     "execution_count": 116,
     "metadata": {},
     "output_type": "execute_result"
    }
   ],
   "source": [
    "data = select_data_from_db()\n",
    "df = pd.DataFrame(data, columns = ['product_id', 'seller_id', 'title', 'price', 'brand', 'image_url', 'rating', 'comments', 'category','tikinow'])\n",
    "df.sample(5)"
   ]
  },
  {
   "cell_type": "markdown",
   "metadata": {},
   "source": [
    "## Data analysis"
   ]
  },
  {
   "cell_type": "code",
   "execution_count": 15,
   "metadata": {},
   "outputs": [],
   "source": [
    "import numpy as np\n",
    "import pandas as pd\n",
    "import seaborn as sns\n",
    "import matplotlib.pyplot as plt\n",
    "%matplotlib inline\n",
    "import warnings\n",
    "warnings.filterwarnings('ignore')"
   ]
  },
  {
   "cell_type": "code",
   "execution_count": 117,
   "metadata": {},
   "outputs": [
    {
     "data": {
      "text/html": [
       "<div>\n",
       "<style scoped>\n",
       "    .dataframe tbody tr th:only-of-type {\n",
       "        vertical-align: middle;\n",
       "    }\n",
       "\n",
       "    .dataframe tbody tr th {\n",
       "        vertical-align: top;\n",
       "    }\n",
       "\n",
       "    .dataframe thead th {\n",
       "        text-align: right;\n",
       "    }\n",
       "</style>\n",
       "<table border=\"1\" class=\"dataframe\">\n",
       "  <thead>\n",
       "    <tr style=\"text-align: right;\">\n",
       "      <th></th>\n",
       "      <th>product_id</th>\n",
       "      <th>seller_id</th>\n",
       "      <th>title</th>\n",
       "      <th>price</th>\n",
       "      <th>brand</th>\n",
       "      <th>image_url</th>\n",
       "      <th>rating</th>\n",
       "      <th>comments</th>\n",
       "      <th>category</th>\n",
       "      <th>tikinow</th>\n",
       "    </tr>\n",
       "  </thead>\n",
       "  <tbody>\n",
       "    <tr>\n",
       "      <th>127449</th>\n",
       "      <td>20524151</td>\n",
       "      <td>20524152</td>\n",
       "      <td>Chuột chơi game Logitech G Pro Hero 16K - Hàng...</td>\n",
       "      <td>1679000</td>\n",
       "      <td>Logitech</td>\n",
       "      <td>https://salt.tikicdn.com/cache/200x200/ts/prod...</td>\n",
       "      <td></td>\n",
       "      <td>0</td>\n",
       "      <td>Phụ Kiện - Thiết Bị Số</td>\n",
       "      <td>True</td>\n",
       "    </tr>\n",
       "    <tr>\n",
       "      <th>73029</th>\n",
       "      <td>20624156</td>\n",
       "      <td>20624157</td>\n",
       "      <td>Bảng đinh uống bia may mắn (DRINKO SHOT GAME)</td>\n",
       "      <td>459000</td>\n",
       "      <td>OEM</td>\n",
       "      <td>https://salt.tikicdn.com/cache/200x200/ts/prod...</td>\n",
       "      <td></td>\n",
       "      <td>0</td>\n",
       "      <td>Đồ chơi, Mẹ &amp; Bé</td>\n",
       "      <td>False</td>\n",
       "    </tr>\n",
       "    <tr>\n",
       "      <th>1581</th>\n",
       "      <td>15416546</td>\n",
       "      <td>15416547</td>\n",
       "      <td>Gói Khám Toàn Diện Cho Trẻ Em Từ 5 - 9 Tuổi Tạ...</td>\n",
       "      <td>1844500</td>\n",
       "      <td></td>\n",
       "      <td>https://salt.tikicdn.com/cache/200x200/ts/prod...</td>\n",
       "      <td></td>\n",
       "      <td>0</td>\n",
       "      <td>Voucher - Dịch Vụ - Thẻ Cào</td>\n",
       "      <td>False</td>\n",
       "    </tr>\n",
       "    <tr>\n",
       "      <th>74507</th>\n",
       "      <td>12194180</td>\n",
       "      <td>12194182</td>\n",
       "      <td>Bộ Đồ Bé Trai Họa Tiết Unifriend UNI0226 - Trắng</td>\n",
       "      <td>250000</td>\n",
       "      <td>Unifriend</td>\n",
       "      <td>https://salt.tikicdn.com/cache/200x200/ts/prod...</td>\n",
       "      <td></td>\n",
       "      <td>0</td>\n",
       "      <td>Đồ chơi, Mẹ &amp; Bé</td>\n",
       "      <td>False</td>\n",
       "    </tr>\n",
       "    <tr>\n",
       "      <th>86323</th>\n",
       "      <td>1325531</td>\n",
       "      <td>4072409</td>\n",
       "      <td>Combo 10 Cặp Nút Tai Chống Ồn 3M 1100 - Cam</td>\n",
       "      <td>40000</td>\n",
       "      <td>3M</td>\n",
       "      <td>https://salt.tikicdn.com/cache/200x200/ts/prod...</td>\n",
       "      <td>80</td>\n",
       "      <td>5</td>\n",
       "      <td>Nhà Cửa Đời Sống</td>\n",
       "      <td>True</td>\n",
       "    </tr>\n",
       "  </tbody>\n",
       "</table>\n",
       "</div>"
      ],
      "text/plain": [
       "        product_id seller_id  \\\n",
       "127449    20524151  20524152   \n",
       "73029     20624156  20624157   \n",
       "1581      15416546  15416547   \n",
       "74507     12194180  12194182   \n",
       "86323      1325531   4072409   \n",
       "\n",
       "                                                    title    price      brand  \\\n",
       "127449  Chuột chơi game Logitech G Pro Hero 16K - Hàng...  1679000   Logitech   \n",
       "73029       Bảng đinh uống bia may mắn (DRINKO SHOT GAME)   459000        OEM   \n",
       "1581    Gói Khám Toàn Diện Cho Trẻ Em Từ 5 - 9 Tuổi Tạ...  1844500              \n",
       "74507    Bộ Đồ Bé Trai Họa Tiết Unifriend UNI0226 - Trắng   250000  Unifriend   \n",
       "86323         Combo 10 Cặp Nút Tai Chống Ồn 3M 1100 - Cam    40000         3M   \n",
       "\n",
       "                                                image_url rating  comments  \\\n",
       "127449  https://salt.tikicdn.com/cache/200x200/ts/prod...                0   \n",
       "73029   https://salt.tikicdn.com/cache/200x200/ts/prod...                0   \n",
       "1581    https://salt.tikicdn.com/cache/200x200/ts/prod...                0   \n",
       "74507   https://salt.tikicdn.com/cache/200x200/ts/prod...                0   \n",
       "86323   https://salt.tikicdn.com/cache/200x200/ts/prod...     80         5   \n",
       "\n",
       "                           category  tikinow  \n",
       "127449       Phụ Kiện - Thiết Bị Số     True  \n",
       "73029              Đồ chơi, Mẹ & Bé    False  \n",
       "1581    Voucher - Dịch Vụ - Thẻ Cào    False  \n",
       "74507              Đồ chơi, Mẹ & Bé    False  \n",
       "86323              Nhà Cửa Đời Sống     True  "
      ]
     },
     "execution_count": 117,
     "metadata": {},
     "output_type": "execute_result"
    }
   ],
   "source": [
    "# remove all '%' character from rating column and change column from object type to integer\n",
    "df['rating'] = df['rating'].map(lambda x: x.rstrip('%'))\n",
    "\n",
    "# try:\n",
    "#     df['rating'] = df['rating'].astype(str).astype(int)\n",
    "# except ValueError:\n",
    "#     pass  \n",
    "\n",
    "df.sample(5)"
   ]
  },
  {
   "cell_type": "markdown",
   "metadata": {},
   "source": [
    "## **General info and overview of the dataset**"
   ]
  },
  {
   "cell_type": "code",
   "execution_count": 45,
   "metadata": {},
   "outputs": [
    {
     "name": "stdout",
     "output_type": "stream",
     "text": [
      "<class 'pandas.core.frame.DataFrame'>\n",
      "RangeIndex: 141006 entries, 0 to 141005\n",
      "Data columns (total 10 columns):\n",
      "product_id    141006 non-null int64\n",
      "seller_id     141006 non-null object\n",
      "title         141006 non-null object\n",
      "price         141006 non-null int64\n",
      "brand         141006 non-null object\n",
      "image_url     141006 non-null object\n",
      "rating        141006 non-null object\n",
      "comments      141006 non-null int64\n",
      "category      141006 non-null object\n",
      "tikinow       141006 non-null bool\n",
      "dtypes: bool(1), int64(3), object(6)\n",
      "memory usage: 9.8+ MB\n"
     ]
    }
   ],
   "source": [
    "df.info()"
   ]
  },
  {
   "cell_type": "code",
   "execution_count": 50,
   "metadata": {},
   "outputs": [
    {
     "name": "stdout",
     "output_type": "stream",
     "text": [
      "There are 141006 scraped products on Tiki, belong to 16 categories.\n",
      "However, the real number of products is 121169 products.\n",
      "Therefore, there are 19837 duplicated products.\n",
      "There are 121160 different sellers on Tiki.\n",
      "Tiki's products belong to 12265 different brands.\n"
     ]
    }
   ],
   "source": [
    "print (\"There are\", len(df), \"scraped products on Tiki, belong to\", df['category'].nunique(),\"categories.\")\n",
    "print (\"However, the real number of products is\", df['product_id'].nunique(), \"products.\")\n",
    "print (\"Therefore, there are\",len(df)-df['product_id'].nunique(),\"duplicated products.\")\n",
    "print (\"There are\", df['seller_id'].nunique() ,\"different sellers on Tiki.\")\n",
    "print (\"Tiki's products belong to\", len(df.groupby(df['brand'].str.lower())) , \"different brands.\") #avoid case sensitive"
   ]
  },
  {
   "cell_type": "code",
   "execution_count": 68,
   "metadata": {},
   "outputs": [
    {
     "data": {
      "text/html": [
       "<div>\n",
       "<style scoped>\n",
       "    .dataframe tbody tr th:only-of-type {\n",
       "        vertical-align: middle;\n",
       "    }\n",
       "\n",
       "    .dataframe tbody tr th {\n",
       "        vertical-align: top;\n",
       "    }\n",
       "\n",
       "    .dataframe thead th {\n",
       "        text-align: right;\n",
       "    }\n",
       "</style>\n",
       "<table border=\"1\" class=\"dataframe\">\n",
       "  <thead>\n",
       "    <tr style=\"text-align: right;\">\n",
       "      <th></th>\n",
       "      <th>product_id</th>\n",
       "      <th>price</th>\n",
       "      <th>comments</th>\n",
       "    </tr>\n",
       "  </thead>\n",
       "  <tbody>\n",
       "    <tr>\n",
       "      <th>count</th>\n",
       "      <td>1.410060e+05</td>\n",
       "      <td>1.410060e+05</td>\n",
       "      <td>141006.000000</td>\n",
       "    </tr>\n",
       "    <tr>\n",
       "      <th>mean</th>\n",
       "      <td>9.558885e+06</td>\n",
       "      <td>2.068569e+06</td>\n",
       "      <td>3.309412</td>\n",
       "    </tr>\n",
       "    <tr>\n",
       "      <th>std</th>\n",
       "      <td>6.989837e+06</td>\n",
       "      <td>1.123901e+07</td>\n",
       "      <td>24.774720</td>\n",
       "    </tr>\n",
       "    <tr>\n",
       "      <th>min</th>\n",
       "      <td>5.084400e+04</td>\n",
       "      <td>0.000000e+00</td>\n",
       "      <td>0.000000</td>\n",
       "    </tr>\n",
       "    <tr>\n",
       "      <th>25%</th>\n",
       "      <td>2.833796e+06</td>\n",
       "      <td>9.900000e+04</td>\n",
       "      <td>0.000000</td>\n",
       "    </tr>\n",
       "    <tr>\n",
       "      <th>50%</th>\n",
       "      <td>9.140658e+06</td>\n",
       "      <td>2.200000e+05</td>\n",
       "      <td>0.000000</td>\n",
       "    </tr>\n",
       "    <tr>\n",
       "      <th>75%</th>\n",
       "      <td>1.496588e+07</td>\n",
       "      <td>7.190000e+05</td>\n",
       "      <td>1.000000</td>\n",
       "    </tr>\n",
       "    <tr>\n",
       "      <th>max</th>\n",
       "      <td>2.443081e+07</td>\n",
       "      <td>6.003250e+08</td>\n",
       "      <td>3436.000000</td>\n",
       "    </tr>\n",
       "  </tbody>\n",
       "</table>\n",
       "</div>"
      ],
      "text/plain": [
       "         product_id         price       comments\n",
       "count  1.410060e+05  1.410060e+05  141006.000000\n",
       "mean   9.558885e+06  2.068569e+06       3.309412\n",
       "std    6.989837e+06  1.123901e+07      24.774720\n",
       "min    5.084400e+04  0.000000e+00       0.000000\n",
       "25%    2.833796e+06  9.900000e+04       0.000000\n",
       "50%    9.140658e+06  2.200000e+05       0.000000\n",
       "75%    1.496588e+07  7.190000e+05       1.000000\n",
       "max    2.443081e+07  6.003250e+08    3436.000000"
      ]
     },
     "execution_count": 68,
     "metadata": {},
     "output_type": "execute_result"
    }
   ],
   "source": [
    "df.describe()"
   ]
  },
  {
   "cell_type": "markdown",
   "metadata": {},
   "source": [
    "## Top 10 brands with the most products are:\n",
    "\n",
    "|Brands|Number of products|\n",
    "|:---:|:---:|\n",
    "|OEM (original equipment manufacturer)| 37885|\n",
    "|Non-specified sellers | 5706|\n",
    "|Joy collection    | 3588|\n",
    "|hp                |  876|\n",
    "|Hikvision          | 833|\n",
    "|Panasonic          | 681|\n",
    "|Samsung        |     661|\n",
    "|Zippo          |     620|\n",
    "|Xiaomi          |    560|\n",
    "|Sunhouse         |   538|"
   ]
  },
  {
   "cell_type": "code",
   "execution_count": 59,
   "metadata": {},
   "outputs": [
    {
     "data": {
      "text/plain": [
       "oem               37885\n",
       "                   5706\n",
       "joy collection     3588\n",
       "hp                  876\n",
       "hikvision           833\n",
       "panasonic           681\n",
       "samsung             661\n",
       "zippo               620\n",
       "xiaomi              560\n",
       "sunhouse            538\n",
       "Name: brand, dtype: int64"
      ]
     },
     "execution_count": 59,
     "metadata": {},
     "output_type": "execute_result"
    }
   ],
   "source": [
    "df['brand'].str.lower().value_counts().head(10)"
   ]
  },
  {
   "cell_type": "markdown",
   "metadata": {},
   "source": [
    "## The number of products in each category"
   ]
  },
  {
   "cell_type": "code",
   "execution_count": 65,
   "metadata": {},
   "outputs": [
    {
     "data": {
      "text/plain": [
       "Hàng Tiêu Dùng - Thực Phẩm     9984\n",
       "Làm Đẹp - Sức Khỏe             9984\n",
       "Laptop - Thiết bị IT           9984\n",
       "Nhà Cửa Đời Sống               9984\n",
       "Đồ chơi, Mẹ & Bé               9984\n",
       "Xe Máy, Ô tô, Xe Đạp           9984\n",
       "Sách, VPP & Quà Tặng           9984\n",
       "Thể Thao - Dã Ngoại            9984\n",
       "Phụ Kiện - Thiết Bị Số         9984\n",
       "Hàng quốc tế                   9984\n",
       "Điện Gia Dụng                  9984\n",
       "Thời trang - Phụ kiện          9953\n",
       "Máy Ảnh - Quay Phim            9555\n",
       "Điện Tử - Điện Lạnh            6023\n",
       "Voucher - Dịch Vụ - Thẻ Cào    4689\n",
       "Điện Thoại - Máy Tính Bảng      962\n",
       "Name: category, dtype: int64"
      ]
     },
     "execution_count": 65,
     "metadata": {},
     "output_type": "execute_result"
    }
   ],
   "source": [
    "df['category'].value_counts()"
   ]
  },
  {
   "cell_type": "code",
   "execution_count": 121,
   "metadata": {
    "scrolled": false
   },
   "outputs": [
    {
     "data": {
      "image/png": "[encoded data removed]",
      "text/plain": [
       "<Figure size 432x288 with 1 Axes>"
      ]
     },
     "metadata": {
      "needs_background": "light"
     },
     "output_type": "display_data"
    }
   ],
   "source": [
    "count_cat = sns.countplot(y='category', data=df)"
   ]
  },
  {
   "cell_type": "markdown",
   "metadata": {},
   "source": [
    "## Price on Tiki"
   ]
  },
  {
   "cell_type": "code",
   "execution_count": 71,
   "metadata": {},
   "outputs": [
    {
     "data": {
      "text/html": [
       "<div>\n",
       "<style scoped>\n",
       "    .dataframe tbody tr th:only-of-type {\n",
       "        vertical-align: middle;\n",
       "    }\n",
       "\n",
       "    .dataframe tbody tr th {\n",
       "        vertical-align: top;\n",
       "    }\n",
       "\n",
       "    .dataframe thead th {\n",
       "        text-align: right;\n",
       "    }\n",
       "</style>\n",
       "<table border=\"1\" class=\"dataframe\">\n",
       "  <thead>\n",
       "    <tr style=\"text-align: right;\">\n",
       "      <th></th>\n",
       "      <th>product_id</th>\n",
       "      <th>seller_id</th>\n",
       "      <th>title</th>\n",
       "      <th>price</th>\n",
       "      <th>brand</th>\n",
       "      <th>image_url</th>\n",
       "      <th>rating</th>\n",
       "      <th>comments</th>\n",
       "      <th>category</th>\n",
       "      <th>tikinow</th>\n",
       "    </tr>\n",
       "  </thead>\n",
       "  <tbody>\n",
       "    <tr>\n",
       "      <th>111751</th>\n",
       "      <td>16831560</td>\n",
       "      <td>16831561</td>\n",
       "      <td>Camera HCD-E6070RP AHD Samsung Dạng Dome 2MP -...</td>\n",
       "      <td>0</td>\n",
       "      <td>Samsung</td>\n",
       "      <td>https://salt.tikicdn.com/cache/200x200/ts/prod...</td>\n",
       "      <td></td>\n",
       "      <td>0</td>\n",
       "      <td>Máy Ảnh - Quay Phim</td>\n",
       "      <td>False</td>\n",
       "    </tr>\n",
       "  </tbody>\n",
       "</table>\n",
       "</div>"
      ],
      "text/plain": [
       "        product_id seller_id  \\\n",
       "111751    16831560  16831561   \n",
       "\n",
       "                                                    title  price    brand  \\\n",
       "111751  Camera HCD-E6070RP AHD Samsung Dạng Dome 2MP -...      0  Samsung   \n",
       "\n",
       "                                                image_url rating  comments  \\\n",
       "111751  https://salt.tikicdn.com/cache/200x200/ts/prod...                0   \n",
       "\n",
       "                   category  tikinow  \n",
       "111751  Máy Ảnh - Quay Phim    False  "
      ]
     },
     "execution_count": 71,
     "metadata": {},
     "output_type": "execute_result"
    }
   ],
   "source": [
    "df[df['price'] == df['price'].min()]"
   ]
  },
  {
   "cell_type": "code",
   "execution_count": 72,
   "metadata": {},
   "outputs": [
    {
     "data": {
      "text/html": [
       "<div>\n",
       "<style scoped>\n",
       "    .dataframe tbody tr th:only-of-type {\n",
       "        vertical-align: middle;\n",
       "    }\n",
       "\n",
       "    .dataframe tbody tr th {\n",
       "        vertical-align: top;\n",
       "    }\n",
       "\n",
       "    .dataframe thead th {\n",
       "        text-align: right;\n",
       "    }\n",
       "</style>\n",
       "<table border=\"1\" class=\"dataframe\">\n",
       "  <thead>\n",
       "    <tr style=\"text-align: right;\">\n",
       "      <th></th>\n",
       "      <th>product_id</th>\n",
       "      <th>seller_id</th>\n",
       "      <th>title</th>\n",
       "      <th>price</th>\n",
       "      <th>brand</th>\n",
       "      <th>image_url</th>\n",
       "      <th>rating</th>\n",
       "      <th>comments</th>\n",
       "      <th>category</th>\n",
       "      <th>tikinow</th>\n",
       "    </tr>\n",
       "  </thead>\n",
       "  <tbody>\n",
       "    <tr>\n",
       "      <th>29928</th>\n",
       "      <td>15085097</td>\n",
       "      <td>15085098</td>\n",
       "      <td>Xe Môtô Triumph Scrambler 1200 XE - Trắng Xanh</td>\n",
       "      <td>600325000</td>\n",
       "      <td>Triumph Motorcycle</td>\n",
       "      <td>https://salt.tikicdn.com/cache/200x200/ts/prod...</td>\n",
       "      <td></td>\n",
       "      <td>0</td>\n",
       "      <td>Xe Máy, Ô tô, Xe Đạp</td>\n",
       "      <td>True</td>\n",
       "    </tr>\n",
       "    <tr>\n",
       "      <th>29930</th>\n",
       "      <td>15085101</td>\n",
       "      <td>15085102</td>\n",
       "      <td>Xe Môtô Triumph Scrambler 1200 XE - COBALT BLU...</td>\n",
       "      <td>600325000</td>\n",
       "      <td>Triumph Motorcycle</td>\n",
       "      <td>https://salt.tikicdn.com/cache/200x200/ts/prod...</td>\n",
       "      <td></td>\n",
       "      <td>0</td>\n",
       "      <td>Xe Máy, Ô tô, Xe Đạp</td>\n",
       "      <td>True</td>\n",
       "    </tr>\n",
       "    <tr>\n",
       "      <th>30381</th>\n",
       "      <td>15085097</td>\n",
       "      <td>15085098</td>\n",
       "      <td>Xe Môtô Triumph Scrambler 1200 XE - Trắng Xanh</td>\n",
       "      <td>600325000</td>\n",
       "      <td>Triumph Motorcycle</td>\n",
       "      <td>https://salt.tikicdn.com/cache/200x200/ts/prod...</td>\n",
       "      <td></td>\n",
       "      <td>0</td>\n",
       "      <td>Xe Máy, Ô tô, Xe Đạp</td>\n",
       "      <td>True</td>\n",
       "    </tr>\n",
       "    <tr>\n",
       "      <th>30383</th>\n",
       "      <td>15085101</td>\n",
       "      <td>15085102</td>\n",
       "      <td>Xe Môtô Triumph Scrambler 1200 XE - COBALT BLU...</td>\n",
       "      <td>600325000</td>\n",
       "      <td>Triumph Motorcycle</td>\n",
       "      <td>https://salt.tikicdn.com/cache/200x200/ts/prod...</td>\n",
       "      <td></td>\n",
       "      <td>0</td>\n",
       "      <td>Xe Máy, Ô tô, Xe Đạp</td>\n",
       "      <td>True</td>\n",
       "    </tr>\n",
       "  </tbody>\n",
       "</table>\n",
       "</div>"
      ],
      "text/plain": [
       "       product_id seller_id  \\\n",
       "29928    15085097  15085098   \n",
       "29930    15085101  15085102   \n",
       "30381    15085097  15085098   \n",
       "30383    15085101  15085102   \n",
       "\n",
       "                                                   title      price  \\\n",
       "29928     Xe Môtô Triumph Scrambler 1200 XE - Trắng Xanh  600325000   \n",
       "29930  Xe Môtô Triumph Scrambler 1200 XE - COBALT BLU...  600325000   \n",
       "30381     Xe Môtô Triumph Scrambler 1200 XE - Trắng Xanh  600325000   \n",
       "30383  Xe Môtô Triumph Scrambler 1200 XE - COBALT BLU...  600325000   \n",
       "\n",
       "                    brand                                          image_url  \\\n",
       "29928  Triumph Motorcycle  https://salt.tikicdn.com/cache/200x200/ts/prod...   \n",
       "29930  Triumph Motorcycle  https://salt.tikicdn.com/cache/200x200/ts/prod...   \n",
       "30381  Triumph Motorcycle  https://salt.tikicdn.com/cache/200x200/ts/prod...   \n",
       "30383  Triumph Motorcycle  https://salt.tikicdn.com/cache/200x200/ts/prod...   \n",
       "\n",
       "      rating  comments              category  tikinow  \n",
       "29928                0  Xe Máy, Ô tô, Xe Đạp     True  \n",
       "29930                0  Xe Máy, Ô tô, Xe Đạp     True  \n",
       "30381                0  Xe Máy, Ô tô, Xe Đạp     True  \n",
       "30383                0  Xe Máy, Ô tô, Xe Đạp     True  "
      ]
     },
     "execution_count": 72,
     "metadata": {},
     "output_type": "execute_result"
    }
   ],
   "source": [
    "df[df['price'] == df['price'].max()]"
   ]
  },
  {
   "cell_type": "code",
   "execution_count": 77,
   "metadata": {},
   "outputs": [
    {
     "name": "stdout",
     "output_type": "stream",
     "text": [
      "The mean price is 2068569 VND\n"
     ]
    }
   ],
   "source": [
    "print (\"The mean price in Tiki is\",round(df['price'].mean()),\"VND\")"
   ]
  },
  {
   "cell_type": "markdown",
   "metadata": {},
   "source": [
    "## Tiki Now and Comments"
   ]
  },
  {
   "cell_type": "code",
   "execution_count": 110,
   "metadata": {},
   "outputs": [
    {
     "name": "stdout",
     "output_type": "stream",
     "text": [
      "There are 46745 products with Tikinow and 94261 products without Tikinow.\n"
     ]
    }
   ],
   "source": [
    "print(\"There are\",len(df[df['tikinow'] == True]),\"products with Tikinow and\",len(df[df['tikinow'] == False]),\"products without Tikinow.\")"
   ]
  },
  {
   "cell_type": "code",
   "execution_count": 111,
   "metadata": {},
   "outputs": [
    {
     "data": {
      "text/html": [
       "<div>\n",
       "<style scoped>\n",
       "    .dataframe tbody tr th:only-of-type {\n",
       "        vertical-align: middle;\n",
       "    }\n",
       "\n",
       "    .dataframe tbody tr th {\n",
       "        vertical-align: top;\n",
       "    }\n",
       "\n",
       "    .dataframe thead th {\n",
       "        text-align: right;\n",
       "    }\n",
       "</style>\n",
       "<table border=\"1\" class=\"dataframe\">\n",
       "  <thead>\n",
       "    <tr style=\"text-align: right;\">\n",
       "      <th></th>\n",
       "      <th>product_id</th>\n",
       "      <th>seller_id</th>\n",
       "      <th>title</th>\n",
       "      <th>price</th>\n",
       "      <th>brand</th>\n",
       "      <th>image_url</th>\n",
       "      <th>rating</th>\n",
       "      <th>comments</th>\n",
       "      <th>category</th>\n",
       "      <th>tikinow</th>\n",
       "    </tr>\n",
       "  </thead>\n",
       "  <tbody>\n",
       "    <tr>\n",
       "      <th>0</th>\n",
       "      <td>21534194</td>\n",
       "      <td>21534195</td>\n",
       "      <td>BA GÁC NƯỚNG &amp; BIA - COMBO NƯỚNG BA GÁC ĐẶC BI...</td>\n",
       "      <td>320000</td>\n",
       "      <td></td>\n",
       "      <td>https://salt.tikicdn.com/cache/200x200/ts/prod...</td>\n",
       "      <td></td>\n",
       "      <td>0</td>\n",
       "      <td>Voucher - Dịch Vụ - Thẻ Cào</td>\n",
       "      <td>False</td>\n",
       "    </tr>\n",
       "    <tr>\n",
       "      <th>1</th>\n",
       "      <td>23264624</td>\n",
       "      <td>23264630</td>\n",
       "      <td>Capella Park View - Buffet Chay Mùa Vu Lan Hơn...</td>\n",
       "      <td>189000</td>\n",
       "      <td></td>\n",
       "      <td>https://salt.tikicdn.com/cache/200x200/ts/prod...</td>\n",
       "      <td></td>\n",
       "      <td>0</td>\n",
       "      <td>Voucher - Dịch Vụ - Thẻ Cào</td>\n",
       "      <td>False</td>\n",
       "    </tr>\n",
       "  </tbody>\n",
       "</table>\n",
       "</div>"
      ],
      "text/plain": [
       "   product_id seller_id                                              title  \\\n",
       "0    21534194  21534195  BA GÁC NƯỚNG & BIA - COMBO NƯỚNG BA GÁC ĐẶC BI...   \n",
       "1    23264624  23264630  Capella Park View - Buffet Chay Mùa Vu Lan Hơn...   \n",
       "\n",
       "    price brand                                          image_url rating  \\\n",
       "0  320000        https://salt.tikicdn.com/cache/200x200/ts/prod...          \n",
       "1  189000        https://salt.tikicdn.com/cache/200x200/ts/prod...          \n",
       "\n",
       "   comments                     category  tikinow  \n",
       "0         0  Voucher - Dịch Vụ - Thẻ Cào    False  \n",
       "1         0  Voucher - Dịch Vụ - Thẻ Cào    False  "
      ]
     },
     "execution_count": 111,
     "metadata": {},
     "output_type": "execute_result"
    }
   ],
   "source": [
    "df[df['comments'] == df['comments'].min()].head(2)"
   ]
  },
  {
   "cell_type": "code",
   "execution_count": 120,
   "metadata": {},
   "outputs": [
    {
     "data": {
      "text/html": [
       "<div>\n",
       "<style scoped>\n",
       "    .dataframe tbody tr th:only-of-type {\n",
       "        vertical-align: middle;\n",
       "    }\n",
       "\n",
       "    .dataframe tbody tr th {\n",
       "        vertical-align: top;\n",
       "    }\n",
       "\n",
       "    .dataframe thead th {\n",
       "        text-align: right;\n",
       "    }\n",
       "</style>\n",
       "<table border=\"1\" class=\"dataframe\">\n",
       "  <thead>\n",
       "    <tr style=\"text-align: right;\">\n",
       "      <th></th>\n",
       "      <th>product_id</th>\n",
       "      <th>seller_id</th>\n",
       "      <th>title</th>\n",
       "      <th>price</th>\n",
       "      <th>brand</th>\n",
       "      <th>image_url</th>\n",
       "      <th>rating</th>\n",
       "      <th>comments</th>\n",
       "      <th>category</th>\n",
       "      <th>tikinow</th>\n",
       "    </tr>\n",
       "  </thead>\n",
       "  <tbody>\n",
       "    <tr>\n",
       "      <th>0</th>\n",
       "      <td>21534194</td>\n",
       "      <td>21534195</td>\n",
       "      <td>BA GÁC NƯỚNG &amp; BIA - COMBO NƯỚNG BA GÁC ĐẶC BI...</td>\n",
       "      <td>320000</td>\n",
       "      <td></td>\n",
       "      <td>https://salt.tikicdn.com/cache/200x200/ts/prod...</td>\n",
       "      <td></td>\n",
       "      <td>0</td>\n",
       "      <td>Voucher - Dịch Vụ - Thẻ Cào</td>\n",
       "      <td>False</td>\n",
       "    </tr>\n",
       "    <tr>\n",
       "      <th>1</th>\n",
       "      <td>23264624</td>\n",
       "      <td>23264630</td>\n",
       "      <td>Capella Park View - Buffet Chay Mùa Vu Lan Hơn...</td>\n",
       "      <td>189000</td>\n",
       "      <td></td>\n",
       "      <td>https://salt.tikicdn.com/cache/200x200/ts/prod...</td>\n",
       "      <td></td>\n",
       "      <td>0</td>\n",
       "      <td>Voucher - Dịch Vụ - Thẻ Cào</td>\n",
       "      <td>False</td>\n",
       "    </tr>\n",
       "    <tr>\n",
       "      <th>2</th>\n",
       "      <td>16563156</td>\n",
       "      <td>16563157</td>\n",
       "      <td>Aka House - Đại Tiệc Buffet Nướng &amp; Lẩu Nhật B...</td>\n",
       "      <td>229000</td>\n",
       "      <td></td>\n",
       "      <td>https://salt.tikicdn.com/cache/200x200/ts/prod...</td>\n",
       "      <td></td>\n",
       "      <td>0</td>\n",
       "      <td>Voucher - Dịch Vụ - Thẻ Cào</td>\n",
       "      <td>False</td>\n",
       "    </tr>\n",
       "  </tbody>\n",
       "</table>\n",
       "</div>"
      ],
      "text/plain": [
       "   product_id seller_id                                              title  \\\n",
       "0    21534194  21534195  BA GÁC NƯỚNG & BIA - COMBO NƯỚNG BA GÁC ĐẶC BI...   \n",
       "1    23264624  23264630  Capella Park View - Buffet Chay Mùa Vu Lan Hơn...   \n",
       "2    16563156  16563157  Aka House - Đại Tiệc Buffet Nướng & Lẩu Nhật B...   \n",
       "\n",
       "    price brand                                          image_url rating  \\\n",
       "0  320000        https://salt.tikicdn.com/cache/200x200/ts/prod...          \n",
       "1  189000        https://salt.tikicdn.com/cache/200x200/ts/prod...          \n",
       "2  229000        https://salt.tikicdn.com/cache/200x200/ts/prod...          \n",
       "\n",
       "   comments                     category  tikinow  \n",
       "0         0  Voucher - Dịch Vụ - Thẻ Cào    False  \n",
       "1         0  Voucher - Dịch Vụ - Thẻ Cào    False  \n",
       "2         0  Voucher - Dịch Vụ - Thẻ Cào    False  "
      ]
     },
     "execution_count": 120,
     "metadata": {},
     "output_type": "execute_result"
    }
   ],
   "source": [
    "df[df['comments'] == df['comments'].min()].head(3)"
   ]
  },
  {
   "cell_type": "code",
   "execution_count": 105,
   "metadata": {},
   "outputs": [
    {
     "name": "stdout",
     "output_type": "stream",
     "text": [
      "There are 89686 products without any comments.\n"
     ]
    }
   ],
   "source": [
    "print(\"There are\",len(df[df['comments'] == df['comments'].min()]),\"products without any comments.\")"
   ]
  },
  {
   "cell_type": "code",
   "execution_count": 103,
   "metadata": {},
   "outputs": [
    {
     "data": {
      "text/html": [
       "<div>\n",
       "<style scoped>\n",
       "    .dataframe tbody tr th:only-of-type {\n",
       "        vertical-align: middle;\n",
       "    }\n",
       "\n",
       "    .dataframe tbody tr th {\n",
       "        vertical-align: top;\n",
       "    }\n",
       "\n",
       "    .dataframe thead th {\n",
       "        text-align: right;\n",
       "    }\n",
       "</style>\n",
       "<table border=\"1\" class=\"dataframe\">\n",
       "  <thead>\n",
       "    <tr style=\"text-align: right;\">\n",
       "      <th></th>\n",
       "      <th>product_id</th>\n",
       "      <th>seller_id</th>\n",
       "      <th>title</th>\n",
       "      <th>price</th>\n",
       "      <th>brand</th>\n",
       "      <th>image_url</th>\n",
       "      <th>rating</th>\n",
       "      <th>comments</th>\n",
       "      <th>category</th>\n",
       "      <th>tikinow</th>\n",
       "    </tr>\n",
       "  </thead>\n",
       "  <tbody>\n",
       "    <tr>\n",
       "      <th>4699</th>\n",
       "      <td>378448</td>\n",
       "      <td>77142</td>\n",
       "      <td>Nhà Giả Kim</td>\n",
       "      <td>44850</td>\n",
       "      <td>Paulo Coelho</td>\n",
       "      <td>https://salt.tikicdn.com/cache/200x200/media/c...</td>\n",
       "      <td>93</td>\n",
       "      <td>3436</td>\n",
       "      <td>Sách, VPP &amp; Quà Tặng</td>\n",
       "      <td>True</td>\n",
       "    </tr>\n",
       "  </tbody>\n",
       "</table>\n",
       "</div>"
      ],
      "text/plain": [
       "      product_id seller_id        title  price         brand  \\\n",
       "4699      378448     77142  Nhà Giả Kim  44850  Paulo Coelho   \n",
       "\n",
       "                                              image_url rating  comments  \\\n",
       "4699  https://salt.tikicdn.com/cache/200x200/media/c...     93      3436   \n",
       "\n",
       "                  category  tikinow  \n",
       "4699  Sách, VPP & Quà Tặng     True  "
      ]
     },
     "execution_count": 103,
     "metadata": {},
     "output_type": "execute_result"
    }
   ],
   "source": [
    "df[df['comments'] == df['comments'].max()]"
   ]
  },
  {
   "cell_type": "code",
   "execution_count": null,
   "metadata": {},
   "outputs": [],
   "source": []
  }
 ],
 "metadata": {
  "colab": {
   "collapsed_sections": [],
   "name": "WEEK 2 Assignment.ipynb",
   "provenance": [],
   "version": "0.3.2"
  },
  "kernelspec": {
   "display_name": "Python 3",
   "language": "python",
   "name": "python3"
  },
  "language_info": {
   "codemirror_mode": {
    "name": "ipython",
    "version": 3
   },
   "file_extension": ".py",
   "mimetype": "text/x-python",
   "name": "python",
   "nbconvert_exporter": "python",
   "pygments_lexer": "ipython3",
   "version": "3.7.3"
  }
 },
 "nbformat": 4,
 "nbformat_minor": 1
}
